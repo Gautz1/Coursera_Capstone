{
    "nbformat_minor": 1, 
    "cells": [
        {
            "source": "!conda install -c conda-forge geopy --yes", 
            "cell_type": "code", 
            "execution_count": 1, 
            "outputs": [
                {
                    "output_type": "stream", 
                    "name": "stdout", 
                    "text": "Solving environment: done\n\n## Package Plan ##\n\n  environment location: /opt/conda/envs/Python36\n\n  added / updated specs: \n    - geopy\n\n\nThe following packages will be downloaded:\n\n    package                    |            build\n    ---------------------------|-----------------\n    openssl-1.1.1c             |       h516909a_0         2.1 MB  conda-forge\n    ca-certificates-2019.9.11  |       hecc5488_0         144 KB  conda-forge\n    geographiclib-1.50         |             py_0          34 KB  conda-forge\n    certifi-2019.9.11          |           py36_0         147 KB  conda-forge\n    geopy-1.20.0               |             py_0          57 KB  conda-forge\n    ------------------------------------------------------------\n                                           Total:         2.5 MB\n\nThe following NEW packages will be INSTALLED:\n\n    geographiclib:   1.50-py_0         conda-forge\n    geopy:           1.20.0-py_0       conda-forge\n\nThe following packages will be UPDATED:\n\n    ca-certificates: 2019.8.28-0                   --> 2019.9.11-hecc5488_0 conda-forge\n    certifi:         2019.9.11-py36_0              --> 2019.9.11-py36_0     conda-forge\n\nThe following packages will be DOWNGRADED:\n\n    openssl:         1.1.1d-h7b6447c_2             --> 1.1.1c-h516909a_0    conda-forge\n\n\nDownloading and Extracting Packages\nopenssl-1.1.1c       | 2.1 MB    | ##################################### | 100% \nca-certificates-2019 | 144 KB    | ##################################### | 100% \ngeographiclib-1.50   | 34 KB     | ##################################### | 100% \ncertifi-2019.9.11    | 147 KB    | ##################################### | 100% \ngeopy-1.20.0         | 57 KB     | ##################################### | 100% \nPreparing transaction: done\nVerifying transaction: done\nExecuting transaction: done\n"
                }
            ], 
            "metadata": {
                "collapsed": true
            }
        }, 
        {
            "source": "!conda install -c conda-forge folium=0.5.0 --yes", 
            "cell_type": "code", 
            "execution_count": 2, 
            "outputs": [
                {
                    "output_type": "stream", 
                    "name": "stdout", 
                    "text": "Solving environment: done\n\n## Package Plan ##\n\n  environment location: /opt/conda/envs/Python36\n\n  added / updated specs: \n    - folium=0.5.0\n\n\nThe following packages will be downloaded:\n\n    package                    |            build\n    ---------------------------|-----------------\n    branca-0.3.1               |             py_0          25 KB  conda-forge\n    folium-0.5.0               |             py_0          45 KB  conda-forge\n    altair-3.2.0               |           py36_0         770 KB  conda-forge\n    vincent-0.4.4              |             py_1          28 KB  conda-forge\n    ------------------------------------------------------------\n                                           Total:         868 KB\n\nThe following NEW packages will be INSTALLED:\n\n    altair:  3.2.0-py36_0 conda-forge\n    branca:  0.3.1-py_0   conda-forge\n    folium:  0.5.0-py_0   conda-forge\n    vincent: 0.4.4-py_1   conda-forge\n\n\nDownloading and Extracting Packages\nbranca-0.3.1         | 25 KB     | ##################################### | 100% \nfolium-0.5.0         | 45 KB     | ##################################### | 100% \naltair-3.2.0         | 770 KB    | ##################################### | 100% \nvincent-0.4.4        | 28 KB     | ##################################### | 100% \nPreparing transaction: done\nVerifying transaction: done\nExecuting transaction: done\n"
                }
            ], 
            "metadata": {
                "collapsed": true
            }
        }, 
        {
            "source": "## Introduction\n\nThe amount of crime in India is rising everyday. Crimes are categorized into multiple different groups. Our goal in this project is to figure out which states in the country has the most number of a certain crime. We finally conclude with which state has the most overall crimes.", 
            "cell_type": "markdown", 
            "metadata": {}
        }, 
        {
            "source": "## Data\n\nThe dataset is take from Kaggle. It contains information about the trials of violent crimes by courts and will eventually help determine the kind of results we watn. Foursquare data is leveraged in order to be able to plot our final results on a map.", 
            "cell_type": "markdown", 
            "metadata": {}
        }, 
        {
            "source": "import types\nimport pandas as pd\nfrom botocore.client import Config\nimport ibm_boto3\n\ndef __iter__(self): return 0\n\n# @hidden_cell\n# The following code accesses a file in your IBM Cloud Object Storage. It includes your credentials.\n# You might want to remove those credentials before you share the notebook.\n\nbody = client_55b2bb94579d4d9ba04aaf80a8aad6ca.get_object(Bucket='couseracapstone-donotdelete-pr-3vhu2vlrhbzpzg',Key='28_Trial_of_violent_crimes_by_courts.csv')['Body']\n# add missing __iter__ method, so pandas accepts body as file-like object\nif not hasattr(body, \"__iter__\"): body.__iter__ = types.MethodType( __iter__, body )\n\ncrimedf = pd.read_csv(body)\ncrimedf.head()", 
            "cell_type": "code", 
            "execution_count": 61, 
            "outputs": [
                {
                    "output_type": "execute_result", 
                    "metadata": {}, 
                    "data": {
                        "text/html": "<div>\n<style scoped>\n    .dataframe tbody tr th:only-of-type {\n        vertical-align: middle;\n    }\n\n    .dataframe tbody tr th {\n        vertical-align: top;\n    }\n\n    .dataframe thead th {\n        text-align: right;\n    }\n</style>\n<table border=\"1\" class=\"dataframe\">\n  <thead>\n    <tr style=\"text-align: right;\">\n      <th></th>\n      <th>Area_Name</th>\n      <th>Year</th>\n      <th>Group_Name</th>\n      <th>Sub_Group_Name</th>\n      <th>Trial_of_Violent_Crimes_by_Courts_By_Confession</th>\n      <th>Trial_of_Violent_Crimes_by_Courts_By_trial</th>\n      <th>Trial_of_Violent_Crimes_by_Courts_Total</th>\n    </tr>\n  </thead>\n  <tbody>\n    <tr>\n      <th>0</th>\n      <td>Andhra Pradesh</td>\n      <td>2001</td>\n      <td>TVC- Arson</td>\n      <td>10. Arson</td>\n      <td>20.0</td>\n      <td>517.0</td>\n      <td>537.0</td>\n    </tr>\n    <tr>\n      <th>1</th>\n      <td>Arunachal Pradesh</td>\n      <td>2001</td>\n      <td>TVC- Arson</td>\n      <td>10. Arson</td>\n      <td>0.0</td>\n      <td>3.0</td>\n      <td>3.0</td>\n    </tr>\n    <tr>\n      <th>2</th>\n      <td>Assam</td>\n      <td>2001</td>\n      <td>TVC- Arson</td>\n      <td>10. Arson</td>\n      <td>5.0</td>\n      <td>142.0</td>\n      <td>147.0</td>\n    </tr>\n    <tr>\n      <th>3</th>\n      <td>Bihar</td>\n      <td>2001</td>\n      <td>TVC- Arson</td>\n      <td>10. Arson</td>\n      <td>0.0</td>\n      <td>208.0</td>\n      <td>208.0</td>\n    </tr>\n    <tr>\n      <th>4</th>\n      <td>Chandigarh</td>\n      <td>2001</td>\n      <td>TVC- Arson</td>\n      <td>10. Arson</td>\n      <td>0.0</td>\n      <td>3.0</td>\n      <td>3.0</td>\n    </tr>\n  </tbody>\n</table>\n</div>", 
                        "text/plain": "           Area_Name  Year  Group_Name Sub_Group_Name  \\\n0     Andhra Pradesh  2001  TVC- Arson      10. Arson   \n1  Arunachal Pradesh  2001  TVC- Arson      10. Arson   \n2              Assam  2001  TVC- Arson      10. Arson   \n3              Bihar  2001  TVC- Arson      10. Arson   \n4         Chandigarh  2001  TVC- Arson      10. Arson   \n\n   Trial_of_Violent_Crimes_by_Courts_By_Confession  \\\n0                                             20.0   \n1                                              0.0   \n2                                              5.0   \n3                                              0.0   \n4                                              0.0   \n\n   Trial_of_Violent_Crimes_by_Courts_By_trial  \\\n0                                       517.0   \n1                                         3.0   \n2                                       142.0   \n3                                       208.0   \n4                                         3.0   \n\n   Trial_of_Violent_Crimes_by_Courts_Total  \n0                                    537.0  \n1                                      3.0  \n2                                    147.0  \n3                                    208.0  \n4                                      3.0  "
                    }, 
                    "execution_count": 61
                }
            ], 
            "metadata": {}
        }, 
        {
            "source": "crimedf.shape", 
            "cell_type": "code", 
            "execution_count": 62, 
            "outputs": [
                {
                    "output_type": "execute_result", 
                    "metadata": {}, 
                    "data": {
                        "text/plain": "(4473, 7)"
                    }, 
                    "execution_count": 62
                }
            ], 
            "metadata": {}
        }, 
        {
            "source": "crimedf.columns=['State', 'Year', 'Group', 'Sub_Group', 'Confession', 'Trial', 'Total']", 
            "cell_type": "code", 
            "execution_count": 63, 
            "outputs": [], 
            "metadata": {}
        }, 
        {
            "source": "crimedf.head(10)", 
            "cell_type": "code", 
            "execution_count": 64, 
            "outputs": [
                {
                    "output_type": "execute_result", 
                    "metadata": {}, 
                    "data": {
                        "text/html": "<div>\n<style scoped>\n    .dataframe tbody tr th:only-of-type {\n        vertical-align: middle;\n    }\n\n    .dataframe tbody tr th {\n        vertical-align: top;\n    }\n\n    .dataframe thead th {\n        text-align: right;\n    }\n</style>\n<table border=\"1\" class=\"dataframe\">\n  <thead>\n    <tr style=\"text-align: right;\">\n      <th></th>\n      <th>State</th>\n      <th>Year</th>\n      <th>Group</th>\n      <th>Sub_Group</th>\n      <th>Confession</th>\n      <th>Trial</th>\n      <th>Total</th>\n    </tr>\n  </thead>\n  <tbody>\n    <tr>\n      <th>0</th>\n      <td>Andhra Pradesh</td>\n      <td>2001</td>\n      <td>TVC- Arson</td>\n      <td>10. Arson</td>\n      <td>20.0</td>\n      <td>517.0</td>\n      <td>537.0</td>\n    </tr>\n    <tr>\n      <th>1</th>\n      <td>Arunachal Pradesh</td>\n      <td>2001</td>\n      <td>TVC- Arson</td>\n      <td>10. Arson</td>\n      <td>0.0</td>\n      <td>3.0</td>\n      <td>3.0</td>\n    </tr>\n    <tr>\n      <th>2</th>\n      <td>Assam</td>\n      <td>2001</td>\n      <td>TVC- Arson</td>\n      <td>10. Arson</td>\n      <td>5.0</td>\n      <td>142.0</td>\n      <td>147.0</td>\n    </tr>\n    <tr>\n      <th>3</th>\n      <td>Bihar</td>\n      <td>2001</td>\n      <td>TVC- Arson</td>\n      <td>10. Arson</td>\n      <td>0.0</td>\n      <td>208.0</td>\n      <td>208.0</td>\n    </tr>\n    <tr>\n      <th>4</th>\n      <td>Chandigarh</td>\n      <td>2001</td>\n      <td>TVC- Arson</td>\n      <td>10. Arson</td>\n      <td>0.0</td>\n      <td>3.0</td>\n      <td>3.0</td>\n    </tr>\n    <tr>\n      <th>5</th>\n      <td>Chhattisgarh</td>\n      <td>2001</td>\n      <td>TVC- Arson</td>\n      <td>10. Arson</td>\n      <td>22.0</td>\n      <td>41.0</td>\n      <td>63.0</td>\n    </tr>\n    <tr>\n      <th>6</th>\n      <td>Dadra &amp; Nagar Haveli</td>\n      <td>2001</td>\n      <td>TVC- Arson</td>\n      <td>10. Arson</td>\n      <td>NaN</td>\n      <td>2.0</td>\n      <td>2.0</td>\n    </tr>\n    <tr>\n      <th>7</th>\n      <td>Delhi</td>\n      <td>2001</td>\n      <td>TVC- Arson</td>\n      <td>10. Arson</td>\n      <td>18.0</td>\n      <td>75.0</td>\n      <td>93.0</td>\n    </tr>\n    <tr>\n      <th>8</th>\n      <td>Goa</td>\n      <td>2001</td>\n      <td>TVC- Arson</td>\n      <td>10. Arson</td>\n      <td>NaN</td>\n      <td>41.0</td>\n      <td>41.0</td>\n    </tr>\n    <tr>\n      <th>9</th>\n      <td>Gujarat</td>\n      <td>2001</td>\n      <td>TVC- Arson</td>\n      <td>10. Arson</td>\n      <td>2.0</td>\n      <td>228.0</td>\n      <td>230.0</td>\n    </tr>\n  </tbody>\n</table>\n</div>", 
                        "text/plain": "                  State  Year       Group  Sub_Group  Confession  Trial  Total\n0        Andhra Pradesh  2001  TVC- Arson  10. Arson        20.0  517.0  537.0\n1     Arunachal Pradesh  2001  TVC- Arson  10. Arson         0.0    3.0    3.0\n2                 Assam  2001  TVC- Arson  10. Arson         5.0  142.0  147.0\n3                 Bihar  2001  TVC- Arson  10. Arson         0.0  208.0  208.0\n4            Chandigarh  2001  TVC- Arson  10. Arson         0.0    3.0    3.0\n5          Chhattisgarh  2001  TVC- Arson  10. Arson        22.0   41.0   63.0\n6  Dadra & Nagar Haveli  2001  TVC- Arson  10. Arson         NaN    2.0    2.0\n7                 Delhi  2001  TVC- Arson  10. Arson        18.0   75.0   93.0\n8                   Goa  2001  TVC- Arson  10. Arson         NaN   41.0   41.0\n9               Gujarat  2001  TVC- Arson  10. Arson         2.0  228.0  230.0"
                    }, 
                    "execution_count": 64
                }
            ], 
            "metadata": {}
        }, 
        {
            "source": "crimedf.dropna(axis=0, inplace=True)\ncrimedf.shape", 
            "cell_type": "code", 
            "execution_count": 65, 
            "outputs": [
                {
                    "output_type": "execute_result", 
                    "metadata": {}, 
                    "data": {
                        "text/plain": "(3138, 7)"
                    }, 
                    "execution_count": 65
                }
            ], 
            "metadata": {}
        }, 
        {
            "source": "crimedf.drop(labels=['Group'], axis=1, inplace=True)\ncrimedf.shape", 
            "cell_type": "code", 
            "execution_count": 66, 
            "outputs": [
                {
                    "output_type": "execute_result", 
                    "metadata": {}, 
                    "data": {
                        "text/plain": "(3138, 6)"
                    }, 
                    "execution_count": 66
                }
            ], 
            "metadata": {}
        }, 
        {
            "source": "clist=crimedf.values.tolist()", 
            "cell_type": "code", 
            "execution_count": 67, 
            "outputs": [], 
            "metadata": {}
        }, 
        {
            "source": "#remove very small number of crimes\nfor i in range(len(clist)):\n    if clist[i][5]<10:\n        del clist[i]", 
            "cell_type": "code", 
            "execution_count": 76, 
            "outputs": [], 
            "metadata": {}
        }, 
        {
            "source": "len(clist)", 
            "cell_type": "code", 
            "execution_count": 77, 
            "outputs": [
                {
                    "output_type": "execute_result", 
                    "metadata": {}, 
                    "data": {
                        "text/plain": "2436"
                    }, 
                    "execution_count": 77
                }
            ], 
            "metadata": {}
        }, 
        {
            "source": "for i in range(len(clist)):\n    if clist[i][2]=='12. Total Trials (Sum of 1-11 Above)':\n        del clist[i]", 
            "cell_type": "code", 
            "execution_count": 96, 
            "outputs": [], 
            "metadata": {}
        }, 
        {
            "source": "len(clist)", 
            "cell_type": "code", 
            "execution_count": 97, 
            "outputs": [
                {
                    "output_type": "execute_result", 
                    "metadata": {}, 
                    "data": {
                        "text/plain": "2185"
                    }, 
                    "execution_count": 97
                }
            ], 
            "metadata": {}
        }, 
        {
            "source": "crimedf=pd.DataFrame(clist)\ncrimedf.columns=['State', 'Year', 'group', 'Confession', 'Trial', 'Total']\ncrimedf.head()", 
            "cell_type": "code", 
            "execution_count": 100, 
            "outputs": [
                {
                    "output_type": "execute_result", 
                    "metadata": {}, 
                    "data": {
                        "text/html": "<div>\n<style scoped>\n    .dataframe tbody tr th:only-of-type {\n        vertical-align: middle;\n    }\n\n    .dataframe tbody tr th {\n        vertical-align: top;\n    }\n\n    .dataframe thead th {\n        text-align: right;\n    }\n</style>\n<table border=\"1\" class=\"dataframe\">\n  <thead>\n    <tr style=\"text-align: right;\">\n      <th></th>\n      <th>State</th>\n      <th>Year</th>\n      <th>group</th>\n      <th>Confession</th>\n      <th>Trial</th>\n      <th>Total</th>\n    </tr>\n  </thead>\n  <tbody>\n    <tr>\n      <th>0</th>\n      <td>Andhra Pradesh</td>\n      <td>2001</td>\n      <td>10. Arson</td>\n      <td>20.0</td>\n      <td>517.0</td>\n      <td>537.0</td>\n    </tr>\n    <tr>\n      <th>1</th>\n      <td>Assam</td>\n      <td>2001</td>\n      <td>10. Arson</td>\n      <td>5.0</td>\n      <td>142.0</td>\n      <td>147.0</td>\n    </tr>\n    <tr>\n      <th>2</th>\n      <td>Bihar</td>\n      <td>2001</td>\n      <td>10. Arson</td>\n      <td>0.0</td>\n      <td>208.0</td>\n      <td>208.0</td>\n    </tr>\n    <tr>\n      <th>3</th>\n      <td>Chhattisgarh</td>\n      <td>2001</td>\n      <td>10. Arson</td>\n      <td>22.0</td>\n      <td>41.0</td>\n      <td>63.0</td>\n    </tr>\n    <tr>\n      <th>4</th>\n      <td>Delhi</td>\n      <td>2001</td>\n      <td>10. Arson</td>\n      <td>18.0</td>\n      <td>75.0</td>\n      <td>93.0</td>\n    </tr>\n  </tbody>\n</table>\n</div>", 
                        "text/plain": "            State  Year      group  Confession  Trial  Total\n0  Andhra Pradesh  2001  10. Arson        20.0  517.0  537.0\n1           Assam  2001  10. Arson         5.0  142.0  147.0\n2           Bihar  2001  10. Arson         0.0  208.0  208.0\n3    Chhattisgarh  2001  10. Arson        22.0   41.0   63.0\n4           Delhi  2001  10. Arson        18.0   75.0   93.0"
                    }, 
                    "execution_count": 100
                }
            ], 
            "metadata": {}
        }, 
        {
            "source": "crimedf.groupby('group').sum()", 
            "cell_type": "code", 
            "execution_count": 102, 
            "outputs": [
                {
                    "output_type": "execute_result", 
                    "metadata": {}, 
                    "data": {
                        "text/html": "<div>\n<style scoped>\n    .dataframe tbody tr th:only-of-type {\n        vertical-align: middle;\n    }\n\n    .dataframe tbody tr th {\n        vertical-align: top;\n    }\n\n    .dataframe thead th {\n        text-align: right;\n    }\n</style>\n<table border=\"1\" class=\"dataframe\">\n  <thead>\n    <tr style=\"text-align: right;\">\n      <th></th>\n      <th>Year</th>\n      <th>Confession</th>\n      <th>Trial</th>\n      <th>Total</th>\n    </tr>\n    <tr>\n      <th>group</th>\n      <th></th>\n      <th></th>\n      <th></th>\n      <th></th>\n    </tr>\n  </thead>\n  <tbody>\n    <tr>\n      <th>01. Murder</th>\n      <td>415117</td>\n      <td>5077.0</td>\n      <td>189050.0</td>\n      <td>194127.0</td>\n    </tr>\n    <tr>\n      <th>02. Attempt to Murder</th>\n      <td>407086</td>\n      <td>2810.0</td>\n      <td>170023.0</td>\n      <td>172833.0</td>\n    </tr>\n    <tr>\n      <th>03. C H Not Amounting to Murder</th>\n      <td>292798</td>\n      <td>234.0</td>\n      <td>19743.0</td>\n      <td>19977.0</td>\n    </tr>\n    <tr>\n      <th>04. Rape</th>\n      <td>385041</td>\n      <td>2935.0</td>\n      <td>88255.0</td>\n      <td>91190.0</td>\n    </tr>\n    <tr>\n      <th>05. Kidnapping &amp; Abduction</th>\n      <td>379045</td>\n      <td>1707.0</td>\n      <td>89898.0</td>\n      <td>91605.0</td>\n    </tr>\n    <tr>\n      <th>05A. Kidnapping &amp; Abduction of Women &amp; Girls</th>\n      <td>348935</td>\n      <td>1242.0</td>\n      <td>54407.0</td>\n      <td>55649.0</td>\n    </tr>\n    <tr>\n      <th>05B. Kidnapping &amp; Abduction of Others</th>\n      <td>300823</td>\n      <td>461.0</td>\n      <td>24614.0</td>\n      <td>25075.0</td>\n    </tr>\n    <tr>\n      <th>06. Dacoity</th>\n      <td>298782</td>\n      <td>404.0</td>\n      <td>31222.0</td>\n      <td>31626.0</td>\n    </tr>\n    <tr>\n      <th>07. Preparation &amp; Assembly for Dacoity</th>\n      <td>204550</td>\n      <td>123.0</td>\n      <td>10212.0</td>\n      <td>10335.0</td>\n    </tr>\n    <tr>\n      <th>08. Robbery</th>\n      <td>377014</td>\n      <td>1229.0</td>\n      <td>69588.0</td>\n      <td>70817.0</td>\n    </tr>\n    <tr>\n      <th>09. Riots</th>\n      <td>368980</td>\n      <td>5599.0</td>\n      <td>350409.0</td>\n      <td>356008.0</td>\n    </tr>\n    <tr>\n      <th>10. Arson</th>\n      <td>334892</td>\n      <td>610.0</td>\n      <td>35323.0</td>\n      <td>35933.0</td>\n    </tr>\n    <tr>\n      <th>11. Dowry Deaths</th>\n      <td>268699</td>\n      <td>429.0</td>\n      <td>32917.0</td>\n      <td>33346.0</td>\n    </tr>\n  </tbody>\n</table>\n</div>", 
                        "text/plain": "                                                Year  Confession     Trial  \\\ngroup                                                                        \n01. Murder                                    415117      5077.0  189050.0   \n02. Attempt to Murder                         407086      2810.0  170023.0   \n03. C H Not Amounting to Murder               292798       234.0   19743.0   \n04. Rape                                      385041      2935.0   88255.0   \n05. Kidnapping & Abduction                    379045      1707.0   89898.0   \n05A. Kidnapping & Abduction of Women & Girls  348935      1242.0   54407.0   \n05B. Kidnapping & Abduction of Others         300823       461.0   24614.0   \n06. Dacoity                                   298782       404.0   31222.0   \n07. Preparation & Assembly for Dacoity        204550       123.0   10212.0   \n08. Robbery                                   377014      1229.0   69588.0   \n09. Riots                                     368980      5599.0  350409.0   \n10. Arson                                     334892       610.0   35323.0   \n11. Dowry Deaths                              268699       429.0   32917.0   \n\n                                                 Total  \ngroup                                                   \n01. Murder                                    194127.0  \n02. Attempt to Murder                         172833.0  \n03. C H Not Amounting to Murder                19977.0  \n04. Rape                                       91190.0  \n05. Kidnapping & Abduction                     91605.0  \n05A. Kidnapping & Abduction of Women & Girls   55649.0  \n05B. Kidnapping & Abduction of Others          25075.0  \n06. Dacoity                                    31626.0  \n07. Preparation & Assembly for Dacoity         10335.0  \n08. Robbery                                    70817.0  \n09. Riots                                     356008.0  \n10. Arson                                      35933.0  \n11. Dowry Deaths                               33346.0  "
                    }, 
                    "execution_count": 102
                }
            ], 
            "metadata": {}
        }, 
        {
            "source": "", 
            "cell_type": "code", 
            "execution_count": null, 
            "outputs": [], 
            "metadata": {}
        }
    ], 
    "nbformat": 4, 
    "metadata": {
        "kernelspec": {
            "display_name": "Python 3.6", 
            "name": "python3", 
            "language": "python"
        }, 
        "language_info": {
            "mimetype": "text/x-python", 
            "nbconvert_exporter": "python", 
            "version": "3.6.8", 
            "name": "python", 
            "pygments_lexer": "ipython3", 
            "file_extension": ".py", 
            "codemirror_mode": {
                "version": 3, 
                "name": "ipython"
            }
        }
    }
}