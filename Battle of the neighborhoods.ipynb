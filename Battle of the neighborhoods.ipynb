{
    "nbformat_minor": 1, 
    "cells": [
        {
            "source": "!conda install -c conda-forge geopy --yes", 
            "cell_type": "code", 
            "execution_count": 1, 
            "outputs": [
                {
                    "output_type": "stream", 
                    "name": "stdout", 
                    "text": "Solving environment: done\n\n## Package Plan ##\n\n  environment location: /opt/conda/envs/Python36\n\n  added / updated specs: \n    - geopy\n\n\nThe following packages will be downloaded:\n\n    package                    |            build\n    ---------------------------|-----------------\n    openssl-1.1.1c             |       h516909a_0         2.1 MB  conda-forge\n    ca-certificates-2019.9.11  |       hecc5488_0         144 KB  conda-forge\n    geographiclib-1.50         |             py_0          34 KB  conda-forge\n    certifi-2019.9.11          |           py36_0         147 KB  conda-forge\n    geopy-1.20.0               |             py_0          57 KB  conda-forge\n    ------------------------------------------------------------\n                                           Total:         2.5 MB\n\nThe following NEW packages will be INSTALLED:\n\n    geographiclib:   1.50-py_0         conda-forge\n    geopy:           1.20.0-py_0       conda-forge\n\nThe following packages will be UPDATED:\n\n    ca-certificates: 2019.8.28-0                   --> 2019.9.11-hecc5488_0 conda-forge\n    certifi:         2019.9.11-py36_0              --> 2019.9.11-py36_0     conda-forge\n\nThe following packages will be DOWNGRADED:\n\n    openssl:         1.1.1d-h7b6447c_2             --> 1.1.1c-h516909a_0    conda-forge\n\n\nDownloading and Extracting Packages\nopenssl-1.1.1c       | 2.1 MB    | ##################################### | 100% \nca-certificates-2019 | 144 KB    | ##################################### | 100% \ngeographiclib-1.50   | 34 KB     | ##################################### | 100% \ncertifi-2019.9.11    | 147 KB    | ##################################### | 100% \ngeopy-1.20.0         | 57 KB     | ##################################### | 100% \nPreparing transaction: done\nVerifying transaction: done\nExecuting transaction: done\n"
                }
            ], 
            "metadata": {
                "collapsed": true
            }
        }, 
        {
            "source": "!conda install -c conda-forge folium=0.5.0 --yes", 
            "cell_type": "code", 
            "execution_count": 2, 
            "outputs": [
                {
                    "output_type": "stream", 
                    "name": "stdout", 
                    "text": "Solving environment: done\n\n## Package Plan ##\n\n  environment location: /opt/conda/envs/Python36\n\n  added / updated specs: \n    - folium=0.5.0\n\n\nThe following packages will be downloaded:\n\n    package                    |            build\n    ---------------------------|-----------------\n    branca-0.3.1               |             py_0          25 KB  conda-forge\n    folium-0.5.0               |             py_0          45 KB  conda-forge\n    altair-3.2.0               |           py36_0         770 KB  conda-forge\n    vincent-0.4.4              |             py_1          28 KB  conda-forge\n    ------------------------------------------------------------\n                                           Total:         868 KB\n\nThe following NEW packages will be INSTALLED:\n\n    altair:  3.2.0-py36_0 conda-forge\n    branca:  0.3.1-py_0   conda-forge\n    folium:  0.5.0-py_0   conda-forge\n    vincent: 0.4.4-py_1   conda-forge\n\n\nDownloading and Extracting Packages\nbranca-0.3.1         | 25 KB     | ##################################### | 100% \nfolium-0.5.0         | 45 KB     | ##################################### | 100% \naltair-3.2.0         | 770 KB    | ##################################### | 100% \nvincent-0.4.4        | 28 KB     | ##################################### | 100% \nPreparing transaction: done\nVerifying transaction: done\nExecuting transaction: done\n"
                }
            ], 
            "metadata": {
                "collapsed": true
            }
        }, 
        {
            "source": "## Introduction\n\nThe amount of crime in India is rising everyday. Crimes are categorized into multiple different groups. Our goal in this project is to figure out which states in the country has the most number of a certain crime. We finally conclude with which state has the most overall crimes. This data is useful to agencies that fight crime and could help them figure out which parts of the country require higher and more vigilant security etc. Based on previous data, we can b", 
            "cell_type": "markdown", 
            "metadata": {}
        }, 
        {
            "source": "## Data\n\nThe dataset is take from Kaggle. It contains information about the trials of violent crimes by courts and will eventually help determine the kind of results we watn. Foursquare data is leveraged in order to be able to plot our final results on a map.", 
            "cell_type": "markdown", 
            "metadata": {}
        }, 
        {
            "source": "\nimport types\nimport pandas as pd\nfrom botocore.client import Config\nimport ibm_boto3\n\ndef __iter__(self): return 0\n\n# @hidden_cell\n# The following code accesses a file in your IBM Cloud Object Storage. It includes your credentials.\n# You might want to remove those credentials before you share the notebook.\n\n\nbody = client_55b2bb94579d4d9ba04aaf80a8aad6ca.get_object(Bucket='couseracapstone-donotdelete-pr-3vhu2vlrhbzpzg',Key='28_Trial_of_violent_crimes_by_courts.csv')['Body']\n# add missing __iter__ method, so pandas accepts body as file-like object\nif not hasattr(body, \"__iter__\"): body.__iter__ = types.MethodType( __iter__, body )\n\ncrimedf = pd.read_csv(body)\ncrimedf.head()\n", 
            "cell_type": "code", 
            "execution_count": 5, 
            "outputs": [
                {
                    "output_type": "execute_result", 
                    "metadata": {}, 
                    "data": {
                        "text/html": "<div>\n<style scoped>\n    .dataframe tbody tr th:only-of-type {\n        vertical-align: middle;\n    }\n\n    .dataframe tbody tr th {\n        vertical-align: top;\n    }\n\n    .dataframe thead th {\n        text-align: right;\n    }\n</style>\n<table border=\"1\" class=\"dataframe\">\n  <thead>\n    <tr style=\"text-align: right;\">\n      <th></th>\n      <th>Area_Name</th>\n      <th>Year</th>\n      <th>Group_Name</th>\n      <th>Sub_Group_Name</th>\n      <th>Trial_of_Violent_Crimes_by_Courts_By_Confession</th>\n      <th>Trial_of_Violent_Crimes_by_Courts_By_trial</th>\n      <th>Trial_of_Violent_Crimes_by_Courts_Total</th>\n    </tr>\n  </thead>\n  <tbody>\n    <tr>\n      <th>0</th>\n      <td>Andhra Pradesh</td>\n      <td>2001</td>\n      <td>TVC- Arson</td>\n      <td>10. Arson</td>\n      <td>20.0</td>\n      <td>517.0</td>\n      <td>537.0</td>\n    </tr>\n    <tr>\n      <th>1</th>\n      <td>Arunachal Pradesh</td>\n      <td>2001</td>\n      <td>TVC- Arson</td>\n      <td>10. Arson</td>\n      <td>0.0</td>\n      <td>3.0</td>\n      <td>3.0</td>\n    </tr>\n    <tr>\n      <th>2</th>\n      <td>Assam</td>\n      <td>2001</td>\n      <td>TVC- Arson</td>\n      <td>10. Arson</td>\n      <td>5.0</td>\n      <td>142.0</td>\n      <td>147.0</td>\n    </tr>\n    <tr>\n      <th>3</th>\n      <td>Bihar</td>\n      <td>2001</td>\n      <td>TVC- Arson</td>\n      <td>10. Arson</td>\n      <td>0.0</td>\n      <td>208.0</td>\n      <td>208.0</td>\n    </tr>\n    <tr>\n      <th>4</th>\n      <td>Chandigarh</td>\n      <td>2001</td>\n      <td>TVC- Arson</td>\n      <td>10. Arson</td>\n      <td>0.0</td>\n      <td>3.0</td>\n      <td>3.0</td>\n    </tr>\n  </tbody>\n</table>\n</div>", 
                        "text/plain": "           Area_Name  Year  Group_Name Sub_Group_Name  \\\n0     Andhra Pradesh  2001  TVC- Arson      10. Arson   \n1  Arunachal Pradesh  2001  TVC- Arson      10. Arson   \n2              Assam  2001  TVC- Arson      10. Arson   \n3              Bihar  2001  TVC- Arson      10. Arson   \n4         Chandigarh  2001  TVC- Arson      10. Arson   \n\n   Trial_of_Violent_Crimes_by_Courts_By_Confession  \\\n0                                             20.0   \n1                                              0.0   \n2                                              5.0   \n3                                              0.0   \n4                                              0.0   \n\n   Trial_of_Violent_Crimes_by_Courts_By_trial  \\\n0                                       517.0   \n1                                         3.0   \n2                                       142.0   \n3                                       208.0   \n4                                         3.0   \n\n   Trial_of_Violent_Crimes_by_Courts_Total  \n0                                    537.0  \n1                                      3.0  \n2                                    147.0  \n3                                    208.0  \n4                                      3.0  "
                    }, 
                    "execution_count": 5
                }
            ], 
            "metadata": {}
        }, 
        {
            "source": "crimedf.shape", 
            "cell_type": "code", 
            "execution_count": 6, 
            "outputs": [
                {
                    "output_type": "execute_result", 
                    "metadata": {}, 
                    "data": {
                        "text/plain": "(4473, 7)"
                    }, 
                    "execution_count": 6
                }
            ], 
            "metadata": {}
        }, 
        {
            "source": "crimedf.columns=['State', 'Year', 'Group', 'Sub_Group', 'Confession', 'Trial', 'Total']", 
            "cell_type": "code", 
            "execution_count": 7, 
            "outputs": [], 
            "metadata": {}
        }, 
        {
            "source": "crimedf.head(10)", 
            "cell_type": "code", 
            "execution_count": 8, 
            "outputs": [
                {
                    "output_type": "execute_result", 
                    "metadata": {}, 
                    "data": {
                        "text/html": "<div>\n<style scoped>\n    .dataframe tbody tr th:only-of-type {\n        vertical-align: middle;\n    }\n\n    .dataframe tbody tr th {\n        vertical-align: top;\n    }\n\n    .dataframe thead th {\n        text-align: right;\n    }\n</style>\n<table border=\"1\" class=\"dataframe\">\n  <thead>\n    <tr style=\"text-align: right;\">\n      <th></th>\n      <th>State</th>\n      <th>Year</th>\n      <th>Group</th>\n      <th>Sub_Group</th>\n      <th>Confession</th>\n      <th>Trial</th>\n      <th>Total</th>\n    </tr>\n  </thead>\n  <tbody>\n    <tr>\n      <th>0</th>\n      <td>Andhra Pradesh</td>\n      <td>2001</td>\n      <td>TVC- Arson</td>\n      <td>10. Arson</td>\n      <td>20.0</td>\n      <td>517.0</td>\n      <td>537.0</td>\n    </tr>\n    <tr>\n      <th>1</th>\n      <td>Arunachal Pradesh</td>\n      <td>2001</td>\n      <td>TVC- Arson</td>\n      <td>10. Arson</td>\n      <td>0.0</td>\n      <td>3.0</td>\n      <td>3.0</td>\n    </tr>\n    <tr>\n      <th>2</th>\n      <td>Assam</td>\n      <td>2001</td>\n      <td>TVC- Arson</td>\n      <td>10. Arson</td>\n      <td>5.0</td>\n      <td>142.0</td>\n      <td>147.0</td>\n    </tr>\n    <tr>\n      <th>3</th>\n      <td>Bihar</td>\n      <td>2001</td>\n      <td>TVC- Arson</td>\n      <td>10. Arson</td>\n      <td>0.0</td>\n      <td>208.0</td>\n      <td>208.0</td>\n    </tr>\n    <tr>\n      <th>4</th>\n      <td>Chandigarh</td>\n      <td>2001</td>\n      <td>TVC- Arson</td>\n      <td>10. Arson</td>\n      <td>0.0</td>\n      <td>3.0</td>\n      <td>3.0</td>\n    </tr>\n    <tr>\n      <th>5</th>\n      <td>Chhattisgarh</td>\n      <td>2001</td>\n      <td>TVC- Arson</td>\n      <td>10. Arson</td>\n      <td>22.0</td>\n      <td>41.0</td>\n      <td>63.0</td>\n    </tr>\n    <tr>\n      <th>6</th>\n      <td>Dadra &amp; Nagar Haveli</td>\n      <td>2001</td>\n      <td>TVC- Arson</td>\n      <td>10. Arson</td>\n      <td>NaN</td>\n      <td>2.0</td>\n      <td>2.0</td>\n    </tr>\n    <tr>\n      <th>7</th>\n      <td>Delhi</td>\n      <td>2001</td>\n      <td>TVC- Arson</td>\n      <td>10. Arson</td>\n      <td>18.0</td>\n      <td>75.0</td>\n      <td>93.0</td>\n    </tr>\n    <tr>\n      <th>8</th>\n      <td>Goa</td>\n      <td>2001</td>\n      <td>TVC- Arson</td>\n      <td>10. Arson</td>\n      <td>NaN</td>\n      <td>41.0</td>\n      <td>41.0</td>\n    </tr>\n    <tr>\n      <th>9</th>\n      <td>Gujarat</td>\n      <td>2001</td>\n      <td>TVC- Arson</td>\n      <td>10. Arson</td>\n      <td>2.0</td>\n      <td>228.0</td>\n      <td>230.0</td>\n    </tr>\n  </tbody>\n</table>\n</div>", 
                        "text/plain": "                  State  Year       Group  Sub_Group  Confession  Trial  Total\n0        Andhra Pradesh  2001  TVC- Arson  10. Arson        20.0  517.0  537.0\n1     Arunachal Pradesh  2001  TVC- Arson  10. Arson         0.0    3.0    3.0\n2                 Assam  2001  TVC- Arson  10. Arson         5.0  142.0  147.0\n3                 Bihar  2001  TVC- Arson  10. Arson         0.0  208.0  208.0\n4            Chandigarh  2001  TVC- Arson  10. Arson         0.0    3.0    3.0\n5          Chhattisgarh  2001  TVC- Arson  10. Arson        22.0   41.0   63.0\n6  Dadra & Nagar Haveli  2001  TVC- Arson  10. Arson         NaN    2.0    2.0\n7                 Delhi  2001  TVC- Arson  10. Arson        18.0   75.0   93.0\n8                   Goa  2001  TVC- Arson  10. Arson         NaN   41.0   41.0\n9               Gujarat  2001  TVC- Arson  10. Arson         2.0  228.0  230.0"
                    }, 
                    "execution_count": 8
                }
            ], 
            "metadata": {}
        }, 
        {
            "source": "crimedf.dropna(axis=0, inplace=True)\ncrimedf.shape", 
            "cell_type": "code", 
            "execution_count": 9, 
            "outputs": [
                {
                    "output_type": "execute_result", 
                    "metadata": {}, 
                    "data": {
                        "text/plain": "(3138, 7)"
                    }, 
                    "execution_count": 9
                }
            ], 
            "metadata": {}
        }, 
        {
            "source": "crimedf.drop(labels=['Group'], axis=1, inplace=True)\ncrimedf.shape", 
            "cell_type": "code", 
            "execution_count": 10, 
            "outputs": [
                {
                    "output_type": "execute_result", 
                    "metadata": {}, 
                    "data": {
                        "text/plain": "(3138, 6)"
                    }, 
                    "execution_count": 10
                }
            ], 
            "metadata": {}
        }, 
        {
            "source": "clist=crimedf.values.tolist()", 
            "cell_type": "code", 
            "execution_count": 11, 
            "outputs": [], 
            "metadata": {}
        }, 
        {
            "source": "#remove very small number of crimes\nfor i in range(len(clist)):\n    if clist[i][5]<10:\n        del clist[i]", 
            "cell_type": "code", 
            "execution_count": 20, 
            "outputs": [], 
            "metadata": {}
        }, 
        {
            "source": "len(clist)", 
            "cell_type": "code", 
            "execution_count": 21, 
            "outputs": [
                {
                    "output_type": "execute_result", 
                    "metadata": {}, 
                    "data": {
                        "text/plain": "2436"
                    }, 
                    "execution_count": 21
                }
            ], 
            "metadata": {}
        }, 
        {
            "source": "for i in range(len(clist)):\n    if clist[i][2]=='12. Total Trials (Sum of 1-11 Above)':\n        del clist[i]", 
            "cell_type": "code", 
            "execution_count": 35, 
            "outputs": [], 
            "metadata": {}
        }, 
        {
            "source": "len(clist)", 
            "cell_type": "code", 
            "execution_count": 36, 
            "outputs": [
                {
                    "output_type": "execute_result", 
                    "metadata": {}, 
                    "data": {
                        "text/plain": "2185"
                    }, 
                    "execution_count": 36
                }
            ], 
            "metadata": {}
        }, 
        {
            "source": "crimedf=pd.DataFrame(clist)\ncrimedf.columns=['State', 'Year', 'group', 'Confession', 'Trial', 'Total']\ncrimedf.head()", 
            "cell_type": "code", 
            "execution_count": 37, 
            "outputs": [
                {
                    "output_type": "execute_result", 
                    "metadata": {}, 
                    "data": {
                        "text/html": "<div>\n<style scoped>\n    .dataframe tbody tr th:only-of-type {\n        vertical-align: middle;\n    }\n\n    .dataframe tbody tr th {\n        vertical-align: top;\n    }\n\n    .dataframe thead th {\n        text-align: right;\n    }\n</style>\n<table border=\"1\" class=\"dataframe\">\n  <thead>\n    <tr style=\"text-align: right;\">\n      <th></th>\n      <th>State</th>\n      <th>Year</th>\n      <th>group</th>\n      <th>Confession</th>\n      <th>Trial</th>\n      <th>Total</th>\n    </tr>\n  </thead>\n  <tbody>\n    <tr>\n      <th>0</th>\n      <td>Andhra Pradesh</td>\n      <td>2001</td>\n      <td>10. Arson</td>\n      <td>20.0</td>\n      <td>517.0</td>\n      <td>537.0</td>\n    </tr>\n    <tr>\n      <th>1</th>\n      <td>Assam</td>\n      <td>2001</td>\n      <td>10. Arson</td>\n      <td>5.0</td>\n      <td>142.0</td>\n      <td>147.0</td>\n    </tr>\n    <tr>\n      <th>2</th>\n      <td>Bihar</td>\n      <td>2001</td>\n      <td>10. Arson</td>\n      <td>0.0</td>\n      <td>208.0</td>\n      <td>208.0</td>\n    </tr>\n    <tr>\n      <th>3</th>\n      <td>Chhattisgarh</td>\n      <td>2001</td>\n      <td>10. Arson</td>\n      <td>22.0</td>\n      <td>41.0</td>\n      <td>63.0</td>\n    </tr>\n    <tr>\n      <th>4</th>\n      <td>Delhi</td>\n      <td>2001</td>\n      <td>10. Arson</td>\n      <td>18.0</td>\n      <td>75.0</td>\n      <td>93.0</td>\n    </tr>\n  </tbody>\n</table>\n</div>", 
                        "text/plain": "            State  Year      group  Confession  Trial  Total\n0  Andhra Pradesh  2001  10. Arson        20.0  517.0  537.0\n1           Assam  2001  10. Arson         5.0  142.0  147.0\n2           Bihar  2001  10. Arson         0.0  208.0  208.0\n3    Chhattisgarh  2001  10. Arson        22.0   41.0   63.0\n4           Delhi  2001  10. Arson        18.0   75.0   93.0"
                    }, 
                    "execution_count": 37
                }
            ], 
            "metadata": {}
        }, 
        {
            "source": "crimedf.groupby(['State', 'Year']).sum()", 
            "cell_type": "code", 
            "execution_count": 41, 
            "outputs": [
                {
                    "output_type": "execute_result", 
                    "metadata": {}, 
                    "data": {
                        "text/html": "<div>\n<style scoped>\n    .dataframe tbody tr th:only-of-type {\n        vertical-align: middle;\n    }\n\n    .dataframe tbody tr th {\n        vertical-align: top;\n    }\n\n    .dataframe thead th {\n        text-align: right;\n    }\n</style>\n<table border=\"1\" class=\"dataframe\">\n  <thead>\n    <tr style=\"text-align: right;\">\n      <th></th>\n      <th></th>\n      <th>Confession</th>\n      <th>Trial</th>\n      <th>Total</th>\n    </tr>\n    <tr>\n      <th>State</th>\n      <th>Year</th>\n      <th></th>\n      <th></th>\n      <th></th>\n    </tr>\n  </thead>\n  <tbody>\n    <tr>\n      <th rowspan=\"10\" valign=\"top\">Andhra Pradesh</th>\n      <th>2001</th>\n      <td>58.0</td>\n      <td>9246.0</td>\n      <td>9304.0</td>\n    </tr>\n    <tr>\n      <th>2002</th>\n      <td>2.0</td>\n      <td>10138.0</td>\n      <td>10140.0</td>\n    </tr>\n    <tr>\n      <th>2003</th>\n      <td>0.0</td>\n      <td>8808.0</td>\n      <td>8808.0</td>\n    </tr>\n    <tr>\n      <th>2004</th>\n      <td>0.0</td>\n      <td>9825.0</td>\n      <td>9825.0</td>\n    </tr>\n    <tr>\n      <th>2005</th>\n      <td>0.0</td>\n      <td>9318.0</td>\n      <td>9318.0</td>\n    </tr>\n    <tr>\n      <th>2006</th>\n      <td>0.0</td>\n      <td>9946.0</td>\n      <td>9946.0</td>\n    </tr>\n    <tr>\n      <th>2007</th>\n      <td>3.0</td>\n      <td>10148.0</td>\n      <td>10151.0</td>\n    </tr>\n    <tr>\n      <th>2008</th>\n      <td>0.0</td>\n      <td>9047.0</td>\n      <td>9047.0</td>\n    </tr>\n    <tr>\n      <th>2009</th>\n      <td>2.0</td>\n      <td>9421.0</td>\n      <td>9423.0</td>\n    </tr>\n    <tr>\n      <th>2010</th>\n      <td>11.0</td>\n      <td>10523.0</td>\n      <td>10534.0</td>\n    </tr>\n    <tr>\n      <th rowspan=\"9\" valign=\"top\">Arunachal Pradesh</th>\n      <th>2001</th>\n      <td>0.0</td>\n      <td>48.0</td>\n      <td>48.0</td>\n    </tr>\n    <tr>\n      <th>2003</th>\n      <td>0.0</td>\n      <td>20.0</td>\n      <td>20.0</td>\n    </tr>\n    <tr>\n      <th>2004</th>\n      <td>0.0</td>\n      <td>12.0</td>\n      <td>12.0</td>\n    </tr>\n    <tr>\n      <th>2005</th>\n      <td>0.0</td>\n      <td>92.0</td>\n      <td>92.0</td>\n    </tr>\n    <tr>\n      <th>2006</th>\n      <td>0.0</td>\n      <td>37.0</td>\n      <td>37.0</td>\n    </tr>\n    <tr>\n      <th>2007</th>\n      <td>0.0</td>\n      <td>19.0</td>\n      <td>19.0</td>\n    </tr>\n    <tr>\n      <th>2008</th>\n      <td>0.0</td>\n      <td>22.0</td>\n      <td>22.0</td>\n    </tr>\n    <tr>\n      <th>2009</th>\n      <td>0.0</td>\n      <td>21.0</td>\n      <td>21.0</td>\n    </tr>\n    <tr>\n      <th>2010</th>\n      <td>0.0</td>\n      <td>33.0</td>\n      <td>33.0</td>\n    </tr>\n    <tr>\n      <th rowspan=\"10\" valign=\"top\">Assam</th>\n      <th>2001</th>\n      <td>192.0</td>\n      <td>4223.0</td>\n      <td>4415.0</td>\n    </tr>\n    <tr>\n      <th>2002</th>\n      <td>117.0</td>\n      <td>3638.0</td>\n      <td>3755.0</td>\n    </tr>\n    <tr>\n      <th>2003</th>\n      <td>122.0</td>\n      <td>4424.0</td>\n      <td>4546.0</td>\n    </tr>\n    <tr>\n      <th>2004</th>\n      <td>211.0</td>\n      <td>5139.0</td>\n      <td>5350.0</td>\n    </tr>\n    <tr>\n      <th>2005</th>\n      <td>177.0</td>\n      <td>4804.0</td>\n      <td>4981.0</td>\n    </tr>\n    <tr>\n      <th>2006</th>\n      <td>227.0</td>\n      <td>5224.0</td>\n      <td>5451.0</td>\n    </tr>\n    <tr>\n      <th>2007</th>\n      <td>313.0</td>\n      <td>5628.0</td>\n      <td>5941.0</td>\n    </tr>\n    <tr>\n      <th>2008</th>\n      <td>225.0</td>\n      <td>4051.0</td>\n      <td>4276.0</td>\n    </tr>\n    <tr>\n      <th>2009</th>\n      <td>200.0</td>\n      <td>3330.0</td>\n      <td>3530.0</td>\n    </tr>\n    <tr>\n      <th>2010</th>\n      <td>265.0</td>\n      <td>3559.0</td>\n      <td>3824.0</td>\n    </tr>\n    <tr>\n      <th>Bihar</th>\n      <th>2001</th>\n      <td>17.0</td>\n      <td>14112.0</td>\n      <td>14129.0</td>\n    </tr>\n    <tr>\n      <th>...</th>\n      <th>...</th>\n      <td>...</td>\n      <td>...</td>\n      <td>...</td>\n    </tr>\n    <tr>\n      <th rowspan=\"5\" valign=\"top\">Tripura</th>\n      <th>2004</th>\n      <td>0.0</td>\n      <td>17.0</td>\n      <td>17.0</td>\n    </tr>\n    <tr>\n      <th>2006</th>\n      <td>0.0</td>\n      <td>166.0</td>\n      <td>166.0</td>\n    </tr>\n    <tr>\n      <th>2007</th>\n      <td>0.0</td>\n      <td>17.0</td>\n      <td>17.0</td>\n    </tr>\n    <tr>\n      <th>2009</th>\n      <td>12.0</td>\n      <td>356.0</td>\n      <td>368.0</td>\n    </tr>\n    <tr>\n      <th>2010</th>\n      <td>6.0</td>\n      <td>89.0</td>\n      <td>95.0</td>\n    </tr>\n    <tr>\n      <th rowspan=\"10\" valign=\"top\">Uttar Pradesh</th>\n      <th>2001</th>\n      <td>82.0</td>\n      <td>23949.0</td>\n      <td>24031.0</td>\n    </tr>\n    <tr>\n      <th>2002</th>\n      <td>29.0</td>\n      <td>13457.0</td>\n      <td>13486.0</td>\n    </tr>\n    <tr>\n      <th>2003</th>\n      <td>39.0</td>\n      <td>8878.0</td>\n      <td>8917.0</td>\n    </tr>\n    <tr>\n      <th>2004</th>\n      <td>20.0</td>\n      <td>25250.0</td>\n      <td>25270.0</td>\n    </tr>\n    <tr>\n      <th>2005</th>\n      <td>0.0</td>\n      <td>24116.0</td>\n      <td>24116.0</td>\n    </tr>\n    <tr>\n      <th>2006</th>\n      <td>0.0</td>\n      <td>24745.0</td>\n      <td>24745.0</td>\n    </tr>\n    <tr>\n      <th>2007</th>\n      <td>0.0</td>\n      <td>5699.0</td>\n      <td>5699.0</td>\n    </tr>\n    <tr>\n      <th>2008</th>\n      <td>0.0</td>\n      <td>2817.0</td>\n      <td>2817.0</td>\n    </tr>\n    <tr>\n      <th>2009</th>\n      <td>0.0</td>\n      <td>2970.0</td>\n      <td>2970.0</td>\n    </tr>\n    <tr>\n      <th>2010</th>\n      <td>0.0</td>\n      <td>5976.0</td>\n      <td>5976.0</td>\n    </tr>\n    <tr>\n      <th rowspan=\"5\" valign=\"top\">Uttarakhand</th>\n      <th>2001</th>\n      <td>58.0</td>\n      <td>664.0</td>\n      <td>722.0</td>\n    </tr>\n    <tr>\n      <th>2002</th>\n      <td>48.0</td>\n      <td>584.0</td>\n      <td>632.0</td>\n    </tr>\n    <tr>\n      <th>2003</th>\n      <td>34.0</td>\n      <td>900.0</td>\n      <td>934.0</td>\n    </tr>\n    <tr>\n      <th>2006</th>\n      <td>0.0</td>\n      <td>410.0</td>\n      <td>410.0</td>\n    </tr>\n    <tr>\n      <th>2007</th>\n      <td>0.0</td>\n      <td>235.0</td>\n      <td>235.0</td>\n    </tr>\n    <tr>\n      <th rowspan=\"10\" valign=\"top\">West Bengal</th>\n      <th>2001</th>\n      <td>9.0</td>\n      <td>4872.0</td>\n      <td>4881.0</td>\n    </tr>\n    <tr>\n      <th>2002</th>\n      <td>0.0</td>\n      <td>6551.0</td>\n      <td>6551.0</td>\n    </tr>\n    <tr>\n      <th>2003</th>\n      <td>33.0</td>\n      <td>7004.0</td>\n      <td>7037.0</td>\n    </tr>\n    <tr>\n      <th>2004</th>\n      <td>61.0</td>\n      <td>5009.0</td>\n      <td>5070.0</td>\n    </tr>\n    <tr>\n      <th>2005</th>\n      <td>23.0</td>\n      <td>5365.0</td>\n      <td>5388.0</td>\n    </tr>\n    <tr>\n      <th>2006</th>\n      <td>38.0</td>\n      <td>9584.0</td>\n      <td>9622.0</td>\n    </tr>\n    <tr>\n      <th>2007</th>\n      <td>8.0</td>\n      <td>7112.0</td>\n      <td>7120.0</td>\n    </tr>\n    <tr>\n      <th>2008</th>\n      <td>0.0</td>\n      <td>8011.0</td>\n      <td>8011.0</td>\n    </tr>\n    <tr>\n      <th>2009</th>\n      <td>46.0</td>\n      <td>6019.0</td>\n      <td>6065.0</td>\n    </tr>\n    <tr>\n      <th>2010</th>\n      <td>51.0</td>\n      <td>5675.0</td>\n      <td>5726.0</td>\n    </tr>\n  </tbody>\n</table>\n<p>260 rows \u00d7 3 columns</p>\n</div>", 
                        "text/plain": "                        Confession    Trial    Total\nState             Year                              \nAndhra Pradesh    2001        58.0   9246.0   9304.0\n                  2002         2.0  10138.0  10140.0\n                  2003         0.0   8808.0   8808.0\n                  2004         0.0   9825.0   9825.0\n                  2005         0.0   9318.0   9318.0\n                  2006         0.0   9946.0   9946.0\n                  2007         3.0  10148.0  10151.0\n                  2008         0.0   9047.0   9047.0\n                  2009         2.0   9421.0   9423.0\n                  2010        11.0  10523.0  10534.0\nArunachal Pradesh 2001         0.0     48.0     48.0\n                  2003         0.0     20.0     20.0\n                  2004         0.0     12.0     12.0\n                  2005         0.0     92.0     92.0\n                  2006         0.0     37.0     37.0\n                  2007         0.0     19.0     19.0\n                  2008         0.0     22.0     22.0\n                  2009         0.0     21.0     21.0\n                  2010         0.0     33.0     33.0\nAssam             2001       192.0   4223.0   4415.0\n                  2002       117.0   3638.0   3755.0\n                  2003       122.0   4424.0   4546.0\n                  2004       211.0   5139.0   5350.0\n                  2005       177.0   4804.0   4981.0\n                  2006       227.0   5224.0   5451.0\n                  2007       313.0   5628.0   5941.0\n                  2008       225.0   4051.0   4276.0\n                  2009       200.0   3330.0   3530.0\n                  2010       265.0   3559.0   3824.0\nBihar             2001        17.0  14112.0  14129.0\n...                            ...      ...      ...\nTripura           2004         0.0     17.0     17.0\n                  2006         0.0    166.0    166.0\n                  2007         0.0     17.0     17.0\n                  2009        12.0    356.0    368.0\n                  2010         6.0     89.0     95.0\nUttar Pradesh     2001        82.0  23949.0  24031.0\n                  2002        29.0  13457.0  13486.0\n                  2003        39.0   8878.0   8917.0\n                  2004        20.0  25250.0  25270.0\n                  2005         0.0  24116.0  24116.0\n                  2006         0.0  24745.0  24745.0\n                  2007         0.0   5699.0   5699.0\n                  2008         0.0   2817.0   2817.0\n                  2009         0.0   2970.0   2970.0\n                  2010         0.0   5976.0   5976.0\nUttarakhand       2001        58.0    664.0    722.0\n                  2002        48.0    584.0    632.0\n                  2003        34.0    900.0    934.0\n                  2006         0.0    410.0    410.0\n                  2007         0.0    235.0    235.0\nWest Bengal       2001         9.0   4872.0   4881.0\n                  2002         0.0   6551.0   6551.0\n                  2003        33.0   7004.0   7037.0\n                  2004        61.0   5009.0   5070.0\n                  2005        23.0   5365.0   5388.0\n                  2006        38.0   9584.0   9622.0\n                  2007         8.0   7112.0   7120.0\n                  2008         0.0   8011.0   8011.0\n                  2009        46.0   6019.0   6065.0\n                  2010        51.0   5675.0   5726.0\n\n[260 rows x 3 columns]"
                    }, 
                    "execution_count": 41
                }
            ], 
            "metadata": {}
        }, 
        {
            "source": "", 
            "cell_type": "code", 
            "execution_count": null, 
            "outputs": [], 
            "metadata": {}
        }
    ], 
    "nbformat": 4, 
    "metadata": {
        "kernelspec": {
            "display_name": "Python 3.6", 
            "name": "python3", 
            "language": "python"
        }, 
        "language_info": {
            "mimetype": "text/x-python", 
            "nbconvert_exporter": "python", 
            "version": "3.6.8", 
            "name": "python", 
            "pygments_lexer": "ipython3", 
            "file_extension": ".py", 
            "codemirror_mode": {
                "version": 3, 
                "name": "ipython"
            }
        }
    }
}