{
    "nbformat_minor": 1, 
    "cells": [
        {
            "source": "#using beautifulsoup to extract table data from given webpage\nimport urllib.request as ur\nfrom bs4 import BeautifulSoup as bs\nimport pandas as pd\nimport numpy as np", 
            "cell_type": "code", 
            "execution_count": 358, 
            "outputs": [], 
            "metadata": {}
        }, 
        {
            "source": "wiki=\"https://en.wikipedia.org/wiki/List_of_postal_codes_of_Canada:_M\" #link to wikipedia page\npage=ur.urlopen(wiki)\nsoup=bs(page)", 
            "cell_type": "code", 
            "execution_count": 359, 
            "outputs": [], 
            "metadata": {}
        }, 
        {
            "source": "table=soup.find_all('table', class_='wikitable sortable')#finding the right table", 
            "cell_type": "code", 
            "execution_count": 360, 
            "outputs": [], 
            "metadata": {}
        }, 
        {
            "source": "'''\nfirst, we find all the rows of the table and store them in separate indices of a list. we then format it correctly by removing whitespaces, newline\ncharacters etc and convert the dataframe to a list so that conducting operations are easy. rows where borough is not assigned are removed from the\ndataframe\n'''\nrows=[]\nfor row in table[0].find_all('tr'):\n    rows.append(row.text.strip())\nfor i in range(len(rows)):\n    rows[i]=rows[i].split('\\n')\ndf=pd.DataFrame(rows)\ndf.columns=df.iloc[0]\ndf=df.drop(df.index[0])\ndf=df[df.Borough != 'Not assigned']\ndf.columns=['PostalCode', 'Borough', 'Neighborhood']\nlst=df.values.tolist()\nlen(lst)", 
            "cell_type": "code", 
            "execution_count": 361, 
            "outputs": [
                {
                    "output_type": "execute_result", 
                    "metadata": {}, 
                    "data": {
                        "text/plain": "211"
                    }, 
                    "execution_count": 361
                }
            ], 
            "metadata": {}
        }, 
        {
            "source": "'''\nwe check to see of the postal codes match. in that case we join the neighborhood names and delete the redundant row\n'''\nfor i in range(1, len(lst)):\n    if(lst[i][0]==lst[i-1][0]):\n        lst[i][2]=lst[i][2]+','+lst[i-1][2]\n        del lst[i-1]", 
            "cell_type": "code", 
            "execution_count": 366, 
            "outputs": [
                {
                    "output_type": "error", 
                    "evalue": "list index out of range", 
                    "traceback": [
                        "\u001b[0;31m---------------------------------------------------------------------------\u001b[0m", 
                        "\u001b[0;31mIndexError\u001b[0m                                Traceback (most recent call last)", 
                        "\u001b[0;32m<ipython-input-366-b068191bca17>\u001b[0m in \u001b[0;36m<module>\u001b[0;34m\u001b[0m\n\u001b[1;32m      3\u001b[0m '''\n\u001b[1;32m      4\u001b[0m \u001b[0;32mfor\u001b[0m \u001b[0mi\u001b[0m \u001b[0;32min\u001b[0m \u001b[0mrange\u001b[0m\u001b[0;34m(\u001b[0m\u001b[0;36m1\u001b[0m\u001b[0;34m,\u001b[0m \u001b[0mlen\u001b[0m\u001b[0;34m(\u001b[0m\u001b[0mlst\u001b[0m\u001b[0;34m)\u001b[0m\u001b[0;34m)\u001b[0m\u001b[0;34m:\u001b[0m\u001b[0;34m\u001b[0m\u001b[0;34m\u001b[0m\u001b[0m\n\u001b[0;32m----> 5\u001b[0;31m     \u001b[0;32mif\u001b[0m\u001b[0;34m(\u001b[0m\u001b[0mlst\u001b[0m\u001b[0;34m[\u001b[0m\u001b[0mi\u001b[0m\u001b[0;34m]\u001b[0m\u001b[0;34m[\u001b[0m\u001b[0;36m0\u001b[0m\u001b[0;34m]\u001b[0m\u001b[0;34m==\u001b[0m\u001b[0mlst\u001b[0m\u001b[0;34m[\u001b[0m\u001b[0mi\u001b[0m\u001b[0;34m-\u001b[0m\u001b[0;36m1\u001b[0m\u001b[0;34m]\u001b[0m\u001b[0;34m[\u001b[0m\u001b[0;36m0\u001b[0m\u001b[0;34m]\u001b[0m\u001b[0;34m)\u001b[0m\u001b[0;34m:\u001b[0m\u001b[0;34m\u001b[0m\u001b[0;34m\u001b[0m\u001b[0m\n\u001b[0m\u001b[1;32m      6\u001b[0m         \u001b[0mlst\u001b[0m\u001b[0;34m[\u001b[0m\u001b[0mi\u001b[0m\u001b[0;34m]\u001b[0m\u001b[0;34m[\u001b[0m\u001b[0;36m2\u001b[0m\u001b[0;34m]\u001b[0m\u001b[0;34m=\u001b[0m\u001b[0mlst\u001b[0m\u001b[0;34m[\u001b[0m\u001b[0mi\u001b[0m\u001b[0;34m]\u001b[0m\u001b[0;34m[\u001b[0m\u001b[0;36m2\u001b[0m\u001b[0;34m]\u001b[0m\u001b[0;34m+\u001b[0m\u001b[0;34m','\u001b[0m\u001b[0;34m+\u001b[0m\u001b[0mlst\u001b[0m\u001b[0;34m[\u001b[0m\u001b[0mi\u001b[0m\u001b[0;34m-\u001b[0m\u001b[0;36m1\u001b[0m\u001b[0;34m]\u001b[0m\u001b[0;34m[\u001b[0m\u001b[0;36m2\u001b[0m\u001b[0;34m]\u001b[0m\u001b[0;34m\u001b[0m\u001b[0;34m\u001b[0m\u001b[0m\n\u001b[1;32m      7\u001b[0m         \u001b[0;32mdel\u001b[0m \u001b[0mlst\u001b[0m\u001b[0;34m[\u001b[0m\u001b[0mi\u001b[0m\u001b[0;34m-\u001b[0m\u001b[0;36m1\u001b[0m\u001b[0;34m]\u001b[0m\u001b[0;34m\u001b[0m\u001b[0;34m\u001b[0m\u001b[0m\n", 
                        "\u001b[0;31mIndexError\u001b[0m: list index out of range"
                    ], 
                    "ename": "IndexError"
                }
            ], 
            "metadata": {
                "collapsed": true
            }
        }, 
        {
            "source": "len(lst)", 
            "cell_type": "code", 
            "execution_count": 367, 
            "outputs": [
                {
                    "output_type": "execute_result", 
                    "metadata": {}, 
                    "data": {
                        "text/plain": "103"
                    }, 
                    "execution_count": 367
                }
            ], 
            "metadata": {}
        }, 
        {
            "source": "'''\nwe check to see if a neighborhood is not assigned. if not, then the neighborhood name becomes the same as the borough name\n'''\nfor i in range(len(lst)):\n    if lst[i][2]=='Not assigned':\n        lst[i][2]=lst[i][1]", 
            "cell_type": "code", 
            "execution_count": 368, 
            "outputs": [], 
            "metadata": {}
        }, 
        {
            "source": "df_new=pd.DataFrame(lst)\ndf.columns=['PostalCode', 'Borough', 'Neighborhood']\ndf_new", 
            "cell_type": "code", 
            "execution_count": 369, 
            "outputs": [
                {
                    "output_type": "execute_result", 
                    "metadata": {}, 
                    "data": {
                        "text/html": "<div>\n<style scoped>\n    .dataframe tbody tr th:only-of-type {\n        vertical-align: middle;\n    }\n\n    .dataframe tbody tr th {\n        vertical-align: top;\n    }\n\n    .dataframe thead th {\n        text-align: right;\n    }\n</style>\n<table border=\"1\" class=\"dataframe\">\n  <thead>\n    <tr style=\"text-align: right;\">\n      <th></th>\n      <th>0</th>\n      <th>1</th>\n      <th>2</th>\n    </tr>\n  </thead>\n  <tbody>\n    <tr>\n      <th>0</th>\n      <td>M3A</td>\n      <td>North York</td>\n      <td>Parkwoods</td>\n    </tr>\n    <tr>\n      <th>1</th>\n      <td>M4A</td>\n      <td>North York</td>\n      <td>Victoria Village</td>\n    </tr>\n    <tr>\n      <th>2</th>\n      <td>M5A</td>\n      <td>Downtown Toronto</td>\n      <td>Regent Park,Harbourfront</td>\n    </tr>\n    <tr>\n      <th>3</th>\n      <td>M6A</td>\n      <td>North York</td>\n      <td>Lawrence Manor,Lawrence Heights</td>\n    </tr>\n    <tr>\n      <th>4</th>\n      <td>M7A</td>\n      <td>Queen's Park</td>\n      <td>Queen's Park</td>\n    </tr>\n    <tr>\n      <th>5</th>\n      <td>M9A</td>\n      <td>Etobicoke</td>\n      <td>Islington Avenue</td>\n    </tr>\n    <tr>\n      <th>6</th>\n      <td>M1B</td>\n      <td>Scarborough</td>\n      <td>Malvern,Rouge</td>\n    </tr>\n    <tr>\n      <th>7</th>\n      <td>M3B</td>\n      <td>North York</td>\n      <td>Don Mills North</td>\n    </tr>\n    <tr>\n      <th>8</th>\n      <td>M4B</td>\n      <td>East York</td>\n      <td>Parkview Hill,Woodbine Gardens</td>\n    </tr>\n    <tr>\n      <th>9</th>\n      <td>M5B</td>\n      <td>Downtown Toronto</td>\n      <td>Garden District,Ryerson</td>\n    </tr>\n    <tr>\n      <th>10</th>\n      <td>M6B</td>\n      <td>North York</td>\n      <td>Glencairn</td>\n    </tr>\n    <tr>\n      <th>11</th>\n      <td>M9B</td>\n      <td>Etobicoke</td>\n      <td>West Deane Park,Princess Gardens,Martin Grove,...</td>\n    </tr>\n    <tr>\n      <th>12</th>\n      <td>M1C</td>\n      <td>Scarborough</td>\n      <td>Port Union,Rouge Hill,Highland Creek</td>\n    </tr>\n    <tr>\n      <th>13</th>\n      <td>M3C</td>\n      <td>North York</td>\n      <td>Don Mills South,Flemingdon Park</td>\n    </tr>\n    <tr>\n      <th>14</th>\n      <td>M4C</td>\n      <td>East York</td>\n      <td>Woodbine Heights</td>\n    </tr>\n    <tr>\n      <th>15</th>\n      <td>M5C</td>\n      <td>Downtown Toronto</td>\n      <td>St. James Town</td>\n    </tr>\n    <tr>\n      <th>16</th>\n      <td>M6C</td>\n      <td>York</td>\n      <td>Humewood-Cedarvale</td>\n    </tr>\n    <tr>\n      <th>17</th>\n      <td>M9C</td>\n      <td>Etobicoke</td>\n      <td>Old Burnhamthorpe,Markland Wood,Eringate,Bloor...</td>\n    </tr>\n    <tr>\n      <th>18</th>\n      <td>M1E</td>\n      <td>Scarborough</td>\n      <td>West Hill,Morningside,Guildwood</td>\n    </tr>\n    <tr>\n      <th>19</th>\n      <td>M4E</td>\n      <td>East Toronto</td>\n      <td>The Beaches</td>\n    </tr>\n    <tr>\n      <th>20</th>\n      <td>M5E</td>\n      <td>Downtown Toronto</td>\n      <td>Berczy Park</td>\n    </tr>\n    <tr>\n      <th>21</th>\n      <td>M6E</td>\n      <td>York</td>\n      <td>Caledonia-Fairbanks</td>\n    </tr>\n    <tr>\n      <th>22</th>\n      <td>M1G</td>\n      <td>Scarborough</td>\n      <td>Woburn</td>\n    </tr>\n    <tr>\n      <th>23</th>\n      <td>M4G</td>\n      <td>East York</td>\n      <td>Leaside</td>\n    </tr>\n    <tr>\n      <th>24</th>\n      <td>M5G</td>\n      <td>Downtown Toronto</td>\n      <td>Central Bay Street</td>\n    </tr>\n    <tr>\n      <th>25</th>\n      <td>M6G</td>\n      <td>Downtown Toronto</td>\n      <td>Christie</td>\n    </tr>\n    <tr>\n      <th>26</th>\n      <td>M1H</td>\n      <td>Scarborough</td>\n      <td>Cedarbrae</td>\n    </tr>\n    <tr>\n      <th>27</th>\n      <td>M2H</td>\n      <td>North York</td>\n      <td>Hillcrest Village</td>\n    </tr>\n    <tr>\n      <th>28</th>\n      <td>M3H</td>\n      <td>North York</td>\n      <td>Wilson Heights,Downsview North,Bathurst Manor</td>\n    </tr>\n    <tr>\n      <th>29</th>\n      <td>M4H</td>\n      <td>East York</td>\n      <td>Thorncliffe Park</td>\n    </tr>\n    <tr>\n      <th>...</th>\n      <td>...</td>\n      <td>...</td>\n      <td>...</td>\n    </tr>\n    <tr>\n      <th>73</th>\n      <td>M4R</td>\n      <td>Central Toronto</td>\n      <td>North Toronto West</td>\n    </tr>\n    <tr>\n      <th>74</th>\n      <td>M5R</td>\n      <td>Central Toronto</td>\n      <td>Yorkville,North Midtown,The Annex</td>\n    </tr>\n    <tr>\n      <th>75</th>\n      <td>M6R</td>\n      <td>West Toronto</td>\n      <td>Roncesvalles,Parkdale</td>\n    </tr>\n    <tr>\n      <th>76</th>\n      <td>M7R</td>\n      <td>Mississauga</td>\n      <td>Canada Post Gateway Processing Centre</td>\n    </tr>\n    <tr>\n      <th>77</th>\n      <td>M9R</td>\n      <td>Etobicoke</td>\n      <td>St. Phillips,Richview Gardens,Martin Grove Gar...</td>\n    </tr>\n    <tr>\n      <th>78</th>\n      <td>M1S</td>\n      <td>Scarborough</td>\n      <td>Agincourt</td>\n    </tr>\n    <tr>\n      <th>79</th>\n      <td>M4S</td>\n      <td>Central Toronto</td>\n      <td>Davisville</td>\n    </tr>\n    <tr>\n      <th>80</th>\n      <td>M5S</td>\n      <td>Downtown Toronto</td>\n      <td>University of Toronto,Harbord</td>\n    </tr>\n    <tr>\n      <th>81</th>\n      <td>M6S</td>\n      <td>West Toronto</td>\n      <td>Swansea,Runnymede</td>\n    </tr>\n    <tr>\n      <th>82</th>\n      <td>M1T</td>\n      <td>Scarborough</td>\n      <td>Tam O'Shanter,Sullivan,Clarks Corners</td>\n    </tr>\n    <tr>\n      <th>83</th>\n      <td>M4T</td>\n      <td>Central Toronto</td>\n      <td>Summerhill East,Moore Park</td>\n    </tr>\n    <tr>\n      <th>84</th>\n      <td>M5T</td>\n      <td>Downtown Toronto</td>\n      <td>Kensington Market,Grange Park,Chinatown</td>\n    </tr>\n    <tr>\n      <th>85</th>\n      <td>M1V</td>\n      <td>Scarborough</td>\n      <td>Steeles East,Milliken,L'Amoreaux East,Agincour...</td>\n    </tr>\n    <tr>\n      <th>86</th>\n      <td>M4V</td>\n      <td>Central Toronto</td>\n      <td>Summerhill West,South Hill,Rathnelly,Forest Hi...</td>\n    </tr>\n    <tr>\n      <th>87</th>\n      <td>M5V</td>\n      <td>Downtown Toronto</td>\n      <td>South Niagara,Railway Lands,King and Spadina,H...</td>\n    </tr>\n    <tr>\n      <th>88</th>\n      <td>M8V</td>\n      <td>Etobicoke</td>\n      <td>New Toronto,Mimico South,Humber Bay Shores</td>\n    </tr>\n    <tr>\n      <th>89</th>\n      <td>M9V</td>\n      <td>Etobicoke</td>\n      <td>Thistletown,South Steeles,Silverstone,Mount Ol...</td>\n    </tr>\n    <tr>\n      <th>90</th>\n      <td>M1W</td>\n      <td>Scarborough</td>\n      <td>L'Amoreaux West</td>\n    </tr>\n    <tr>\n      <th>91</th>\n      <td>M4W</td>\n      <td>Downtown Toronto</td>\n      <td>Rosedale</td>\n    </tr>\n    <tr>\n      <th>92</th>\n      <td>M5W</td>\n      <td>Downtown Toronto</td>\n      <td>Stn A PO Boxes 25 The Esplanade</td>\n    </tr>\n    <tr>\n      <th>93</th>\n      <td>M8W</td>\n      <td>Etobicoke</td>\n      <td>Long Branch,Alderwood</td>\n    </tr>\n    <tr>\n      <th>94</th>\n      <td>M9W</td>\n      <td>Etobicoke</td>\n      <td>Northwest</td>\n    </tr>\n    <tr>\n      <th>95</th>\n      <td>M1X</td>\n      <td>Scarborough</td>\n      <td>Upper Rouge</td>\n    </tr>\n    <tr>\n      <th>96</th>\n      <td>M4X</td>\n      <td>Downtown Toronto</td>\n      <td>St. James Town,Cabbagetown</td>\n    </tr>\n    <tr>\n      <th>97</th>\n      <td>M5X</td>\n      <td>Downtown Toronto</td>\n      <td>Underground city,First Canadian Place</td>\n    </tr>\n    <tr>\n      <th>98</th>\n      <td>M8X</td>\n      <td>Etobicoke</td>\n      <td>Old Mill North,Montgomery Road,The Kingsway</td>\n    </tr>\n    <tr>\n      <th>99</th>\n      <td>M4Y</td>\n      <td>Downtown Toronto</td>\n      <td>Church and Wellesley</td>\n    </tr>\n    <tr>\n      <th>100</th>\n      <td>M7Y</td>\n      <td>East Toronto</td>\n      <td>Business Reply Mail Processing Centre 969 Eastern</td>\n    </tr>\n    <tr>\n      <th>101</th>\n      <td>M8Y</td>\n      <td>Etobicoke</td>\n      <td>Sunnylea,Royal York South East,The Queensway E...</td>\n    </tr>\n    <tr>\n      <th>102</th>\n      <td>M8Z</td>\n      <td>Etobicoke</td>\n      <td>South of Bloor,Royal York South West,The Queen...</td>\n    </tr>\n  </tbody>\n</table>\n<p>103 rows \u00d7 3 columns</p>\n</div>", 
                        "text/plain": "       0                 1                                                  2\n0    M3A        North York                                          Parkwoods\n1    M4A        North York                                   Victoria Village\n2    M5A  Downtown Toronto                           Regent Park,Harbourfront\n3    M6A        North York                    Lawrence Manor,Lawrence Heights\n4    M7A      Queen's Park                                       Queen's Park\n5    M9A         Etobicoke                                   Islington Avenue\n6    M1B       Scarborough                                      Malvern,Rouge\n7    M3B        North York                                    Don Mills North\n8    M4B         East York                     Parkview Hill,Woodbine Gardens\n9    M5B  Downtown Toronto                            Garden District,Ryerson\n10   M6B        North York                                          Glencairn\n11   M9B         Etobicoke  West Deane Park,Princess Gardens,Martin Grove,...\n12   M1C       Scarborough               Port Union,Rouge Hill,Highland Creek\n13   M3C        North York                    Don Mills South,Flemingdon Park\n14   M4C         East York                                   Woodbine Heights\n15   M5C  Downtown Toronto                                     St. James Town\n16   M6C              York                                 Humewood-Cedarvale\n17   M9C         Etobicoke  Old Burnhamthorpe,Markland Wood,Eringate,Bloor...\n18   M1E       Scarborough                    West Hill,Morningside,Guildwood\n19   M4E      East Toronto                                        The Beaches\n20   M5E  Downtown Toronto                                        Berczy Park\n21   M6E              York                                Caledonia-Fairbanks\n22   M1G       Scarborough                                             Woburn\n23   M4G         East York                                            Leaside\n24   M5G  Downtown Toronto                                 Central Bay Street\n25   M6G  Downtown Toronto                                           Christie\n26   M1H       Scarborough                                          Cedarbrae\n27   M2H        North York                                  Hillcrest Village\n28   M3H        North York      Wilson Heights,Downsview North,Bathurst Manor\n29   M4H         East York                                   Thorncliffe Park\n..   ...               ...                                                ...\n73   M4R   Central Toronto                                 North Toronto West\n74   M5R   Central Toronto                  Yorkville,North Midtown,The Annex\n75   M6R      West Toronto                              Roncesvalles,Parkdale\n76   M7R       Mississauga              Canada Post Gateway Processing Centre\n77   M9R         Etobicoke  St. Phillips,Richview Gardens,Martin Grove Gar...\n78   M1S       Scarborough                                          Agincourt\n79   M4S   Central Toronto                                         Davisville\n80   M5S  Downtown Toronto                      University of Toronto,Harbord\n81   M6S      West Toronto                                  Swansea,Runnymede\n82   M1T       Scarborough              Tam O'Shanter,Sullivan,Clarks Corners\n83   M4T   Central Toronto                         Summerhill East,Moore Park\n84   M5T  Downtown Toronto            Kensington Market,Grange Park,Chinatown\n85   M1V       Scarborough  Steeles East,Milliken,L'Amoreaux East,Agincour...\n86   M4V   Central Toronto  Summerhill West,South Hill,Rathnelly,Forest Hi...\n87   M5V  Downtown Toronto  South Niagara,Railway Lands,King and Spadina,H...\n88   M8V         Etobicoke         New Toronto,Mimico South,Humber Bay Shores\n89   M9V         Etobicoke  Thistletown,South Steeles,Silverstone,Mount Ol...\n90   M1W       Scarborough                                    L'Amoreaux West\n91   M4W  Downtown Toronto                                           Rosedale\n92   M5W  Downtown Toronto                    Stn A PO Boxes 25 The Esplanade\n93   M8W         Etobicoke                              Long Branch,Alderwood\n94   M9W         Etobicoke                                          Northwest\n95   M1X       Scarborough                                        Upper Rouge\n96   M4X  Downtown Toronto                         St. James Town,Cabbagetown\n97   M5X  Downtown Toronto              Underground city,First Canadian Place\n98   M8X         Etobicoke        Old Mill North,Montgomery Road,The Kingsway\n99   M4Y  Downtown Toronto                               Church and Wellesley\n100  M7Y      East Toronto  Business Reply Mail Processing Centre 969 Eastern\n101  M8Y         Etobicoke  Sunnylea,Royal York South East,The Queensway E...\n102  M8Z         Etobicoke  South of Bloor,Royal York South West,The Queen...\n\n[103 rows x 3 columns]"
                    }, 
                    "execution_count": 369
                }
            ], 
            "metadata": {}
        }, 
        {
            "source": "df.shape", 
            "cell_type": "code", 
            "execution_count": 370, 
            "outputs": [
                {
                    "output_type": "execute_result", 
                    "metadata": {}, 
                    "data": {
                        "text/plain": "(211, 3)"
                    }, 
                    "execution_count": 370
                }
            ], 
            "metadata": {}
        }, 
        {
            "source": "", 
            "cell_type": "code", 
            "execution_count": null, 
            "outputs": [], 
            "metadata": {}
        }, 
        {
            "source": "", 
            "cell_type": "code", 
            "execution_count": null, 
            "outputs": [], 
            "metadata": {}
        }
    ], 
    "nbformat": 4, 
    "metadata": {
        "kernelspec": {
            "display_name": "Python 3.6", 
            "name": "python3", 
            "language": "python"
        }, 
        "language_info": {
            "mimetype": "text/x-python", 
            "nbconvert_exporter": "python", 
            "version": "3.6.8", 
            "name": "python", 
            "pygments_lexer": "ipython3", 
            "file_extension": ".py", 
            "codemirror_mode": {
                "version": 3, 
                "name": "ipython"
            }
        }
    }
}